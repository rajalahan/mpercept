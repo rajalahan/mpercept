{
 "cells": [
  {
   "cell_type": "markdown",
   "metadata": {},
   "source": [
    "# Naive Bayes Classifier\n",
    "Naive Bayes Classifier is a probabilistic machine learning model used for classification. It is based on the popular *Bayes Theorem* of conditional probabilities.\n",
    "\n",
    "## Bayes Theorem\n",
    "Mathematically, the Bayes Theorem is stated as follows.\n",
    "\n",
    "${P(A\\mid B)=\\large{\\frac {P(B\\mid A)\\,P(A)}{P(B)}}}$\n",
    "\n",
    "where,\n",
    "\n",
    "$P(B)$ is the probability of an event $B$ (evidence)  \n",
    "$P(A)$ is the probability of and event $A$ (prior)  \n",
    "$P(B\\mid A)$ the probability of $B$ given $A$ has occured (likelihood)  \n",
    "$P(A\\mid B)$ the probability of $A$ given $B$ has occured (posterior)\n",
    "\n",
    "Let us look at an example to understand this formula. Suppose we have a dataset of 100 people and we know their *sex* and whether they are a *smoker*. The following is a summary of the data.\n",
    " \n",
    "|  Type/Sex  | Female | Male | Total|\n",
    "|------------|-------:|-----:|-----:|\n",
    "| Smoker     |     10 |   30 |   40 |\n",
    "| Non-Smoker |     35 |   25 |   60 |\n",
    "| Total      |     45 |   55 |  100 |\n",
    "\n",
    "Using this data, we can estimate the probability of a random person being a *male* or a *female* as follows.\n",
    "\n",
    "$P(Sex=Male) = \\large\\frac{55}{100}\\small = 0.55$  \n",
    "$P(Sex=Female) = \\large\\frac{45}{100}\\small = 0.45$\n",
    "\n",
    "Similarly, we can estimate the probability of a random person being a *smoker* or a *non-smoker* as follows.\n",
    "\n",
    "$P(Type=Smoker) = \\large\\frac{40}{100}\\small = 0.4$  \n",
    "$P(Type=Non-smoker) = \\large\\frac{60}{100}\\small = 0.6$\n",
    "\n",
    "Looking only at *smokers* data, we can estimate probabilities of *male* or *female* as follows.\n",
    "\n",
    "$P(Sex=Male\\mid Type=Smoker) = \\large\\frac{30}{40}\\small = 0.75$  \n",
    "$P(Sex=Female\\mid Type=Smoker) = \\large\\frac{10}{40}\\small = 0.25$\n",
    "\n",
    "Similarly, looking at only *non-smokers* data, we can estimate probabilities of *male* or *female* as follows.\n",
    "\n",
    "$P(Sex=Male\\mid Type=Non-smoker) = \\large\\frac{25}{60}\\small = 0.42$  \n",
    "$P(Sex=Female\\mid Type=Non-smoker) = \\large\\frac{35}{60}\\small = 0.58$\n",
    "\n",
    "With above probabilities calculated, we can now predict whether someone is a smoker or non-smoker if we know their sex.\n",
    "\n",
    "If we know that a random person is *male*, the probability that he is a *smoker* can be calculated by using the Bayes Theorem as follows.\n",
    "\n",
    "${P(Type=Smoker\\mid Sex=Male)=\\large{\\frac {P(Sex=Male\\mid Type=Smoker)\\,P(Type=Smoker)}{P(Sex=Male)}}}=\\large\\frac{0.75*0.4}{0.55}\\small=0.54$  \n",
    "${P(Type=Non-smoker\\mid Sex=Male)=\\large{\\frac {P(Sex=Male\\mid Type=Non-smoker)\\,P(Type=Non-smoker)}{P(Sex=Male)}}}=\\large\\frac{0.42*0.6}{0.55}\\small=0.46$\n",
    "\n",
    "Since for the given person, the probability of being a smoker is higher than being a non-smoker, we can predict that the given person is a *smoker*.\n",
    "\n",
    "Note that before we knew the *sex* of the person, the probability of that person being a *smoker* was $0.4$. But when we knew that his sex was *male*, this new piece of information or *evidence* helped us update his probability of being a *smoker* to $0.54$. Thus, Bayes Theroem is used to update our *prior* knowledge about something in the light of new *evidence*.\n",
    "\n",
    "## Classification and The *Naive* Assumption\n",
    "We can extend the Bayes Theorm to predict a *label* $y$ for a given set of *features* $X$ as follows.\n",
    "\n",
    "${P(y\\mid X)=\\large{\\frac {P(X\\mid y)\\,P(y)}{P(X)}}}$\n",
    "\n",
    "Here, $X = (x_1,x_2,x_3,.....,x_n)$ is a set of $n$ *features*.\n",
    "\n",
    "The *Naive Bayes Classifier* assumes that each feature in $X$ is *independent* of each other. This assumption is not a very practical one since the features are generally not totally independent. However, this *naive* assumption of independence makes the problem simpler to solve as the probabilities involving this set of features can be broken down as follows.\n",
    "\n",
    "$P(y|x_1,...,x_n) = \\large\\frac{ P(x_1|y)P(x_2|y)...P(x_n|y)P(y)}{P(x_1)P(x_2)...P(x_n)}$\n",
    "\n",
    "This can be written as\n",
    "\n",
    "$P(y|x_1,...,x_n) = \\large\\frac{P(y)\\prod_{i=1}^{n}P(x_i|y)}{\\prod_{i=1}^{n}P(x_i)}$\n",
    "\n",
    "For a classification task, we'll need to calculate the probabilities of each class $y$  for a given set of features $(x_1,...,x_n)$, find out which class has the *highest probability*, and declare that class as the prediction. This means that for every *class probability* we're calculating for a given set of features, the *denominator* in the above equation will remain constant. And since we're trying to find the class with highest probability, the comparison will not be affected if we remove the denominator term to make the equation as follows.\n",
    "\n",
    "$P(y|x_1,...,x_n)\\propto P(y)\\prod_{i=1}^{n}P(x_i|y)$\n",
    "\n",
    "Putting the concept of finding the class $y$ with the highest probability in mathematical terms, we can say that the predicted class is given by the equation below.\n",
    "\n",
    "$y = argmax_{y} P(y)\\prod_{i=1}^{n}P(x_i|y)$"
   ]
  },
  {
   "cell_type": "markdown",
   "metadata": {},
   "source": [
    "## *Spam* vs *Not Spam* Classification\n",
    "Naive Bayes Classifiers are popularly used in text classification tasks because of their better performance in text related tasks even with small training data. We'll explore text classification with reference to an example of classifying messages as *spam* or *not spam*."
   ]
  },
  {
   "cell_type": "code",
   "execution_count": 1,
   "metadata": {},
   "outputs": [],
   "source": [
    "import numpy as np\n",
    "import pandas as pd\n",
    "import seaborn as sns\n",
    "import matplotlib.pyplot as plt\n",
    "\n",
    "%matplotlib inline\n",
    "%config InlineBackend.figure_format = 'retina'"
   ]
  },
  {
   "cell_type": "code",
   "execution_count": 2,
   "metadata": {},
   "outputs": [],
   "source": [
    "plt.rcParams['figure.figsize'] = 8, 6\n",
    "plt.style.use('ggplot')"
   ]
  },
  {
   "cell_type": "code",
   "execution_count": 3,
   "metadata": {},
   "outputs": [
    {
     "data": {
      "text/html": [
       "<div>\n",
       "<style scoped>\n",
       "    .dataframe tbody tr th:only-of-type {\n",
       "        vertical-align: middle;\n",
       "    }\n",
       "\n",
       "    .dataframe tbody tr th {\n",
       "        vertical-align: top;\n",
       "    }\n",
       "\n",
       "    .dataframe thead th {\n",
       "        text-align: right;\n",
       "    }\n",
       "</style>\n",
       "<table border=\"1\" class=\"dataframe\">\n",
       "  <thead>\n",
       "    <tr style=\"text-align: right;\">\n",
       "      <th></th>\n",
       "      <th>label</th>\n",
       "      <th>text</th>\n",
       "    </tr>\n",
       "  </thead>\n",
       "  <tbody>\n",
       "    <tr>\n",
       "      <th>0</th>\n",
       "      <td>ham</td>\n",
       "      <td>Go until jurong point, crazy.. Available only ...</td>\n",
       "    </tr>\n",
       "    <tr>\n",
       "      <th>1</th>\n",
       "      <td>ham</td>\n",
       "      <td>Ok lar... Joking wif u oni...</td>\n",
       "    </tr>\n",
       "    <tr>\n",
       "      <th>2</th>\n",
       "      <td>spam</td>\n",
       "      <td>Free entry in 2 a wkly comp to win FA Cup fina...</td>\n",
       "    </tr>\n",
       "    <tr>\n",
       "      <th>3</th>\n",
       "      <td>ham</td>\n",
       "      <td>U dun say so early hor... U c already then say...</td>\n",
       "    </tr>\n",
       "    <tr>\n",
       "      <th>4</th>\n",
       "      <td>ham</td>\n",
       "      <td>Nah I don't think he goes to usf, he lives aro...</td>\n",
       "    </tr>\n",
       "  </tbody>\n",
       "</table>\n",
       "</div>"
      ],
      "text/plain": [
       "  label                                               text\n",
       "0   ham  Go until jurong point, crazy.. Available only ...\n",
       "1   ham                      Ok lar... Joking wif u oni...\n",
       "2  spam  Free entry in 2 a wkly comp to win FA Cup fina...\n",
       "3   ham  U dun say so early hor... U c already then say...\n",
       "4   ham  Nah I don't think he goes to usf, he lives aro..."
      ]
     },
     "execution_count": 3,
     "metadata": {},
     "output_type": "execute_result"
    }
   ],
   "source": [
    "spam = pd.read_csv('../resources/spam.csv')\n",
    "spam.head()"
   ]
  },
  {
   "cell_type": "code",
   "execution_count": 4,
   "metadata": {},
   "outputs": [
    {
     "name": "stdout",
     "output_type": "stream",
     "text": [
      "<class 'pandas.core.frame.DataFrame'>\n",
      "RangeIndex: 5572 entries, 0 to 5571\n",
      "Data columns (total 2 columns):\n",
      "label    5572 non-null object\n",
      "text     5572 non-null object\n",
      "dtypes: object(2)\n",
      "memory usage: 87.1+ KB\n"
     ]
    }
   ],
   "source": [
    "spam.info()"
   ]
  },
  {
   "cell_type": "code",
   "execution_count": 5,
   "metadata": {},
   "outputs": [
    {
     "data": {
      "text/plain": [
       "<matplotlib.legend.Legend at 0x7fa02f636eb8>"
      ]
     },
     "execution_count": 5,
     "metadata": {},
     "output_type": "execute_result"
    },
    {
     "data": {
      "image/png": "[encoded data removed]",
      "text/plain": [
       "<Figure size 576x432 with 1 Axes>"
      ]
     },
     "metadata": {
      "image/png": {
       "height": 344,
       "width": 358
      }
     },
     "output_type": "display_data"
    }
   ],
   "source": [
    "spam['label'].value_counts().plot.pie(autopct='%1.1f%%')\n",
    "plt.legend()"
   ]
  },
  {
   "cell_type": "code",
   "execution_count": 6,
   "metadata": {},
   "outputs": [
    {
     "data": {
      "text/html": [
       "<div>\n",
       "<style scoped>\n",
       "    .dataframe tbody tr th:only-of-type {\n",
       "        vertical-align: middle;\n",
       "    }\n",
       "\n",
       "    .dataframe tbody tr th {\n",
       "        vertical-align: top;\n",
       "    }\n",
       "\n",
       "    .dataframe thead th {\n",
       "        text-align: right;\n",
       "    }\n",
       "</style>\n",
       "<table border=\"1\" class=\"dataframe\">\n",
       "  <thead>\n",
       "    <tr style=\"text-align: right;\">\n",
       "      <th></th>\n",
       "      <th>label</th>\n",
       "      <th>text</th>\n",
       "    </tr>\n",
       "  </thead>\n",
       "  <tbody>\n",
       "    <tr>\n",
       "      <th>0</th>\n",
       "      <td>0</td>\n",
       "      <td>Go until jurong point, crazy.. Available only ...</td>\n",
       "    </tr>\n",
       "    <tr>\n",
       "      <th>1</th>\n",
       "      <td>0</td>\n",
       "      <td>Ok lar... Joking wif u oni...</td>\n",
       "    </tr>\n",
       "    <tr>\n",
       "      <th>2</th>\n",
       "      <td>1</td>\n",
       "      <td>Free entry in 2 a wkly comp to win FA Cup fina...</td>\n",
       "    </tr>\n",
       "    <tr>\n",
       "      <th>3</th>\n",
       "      <td>0</td>\n",
       "      <td>U dun say so early hor... U c already then say...</td>\n",
       "    </tr>\n",
       "    <tr>\n",
       "      <th>4</th>\n",
       "      <td>0</td>\n",
       "      <td>Nah I don't think he goes to usf, he lives aro...</td>\n",
       "    </tr>\n",
       "  </tbody>\n",
       "</table>\n",
       "</div>"
      ],
      "text/plain": [
       "   label                                               text\n",
       "0      0  Go until jurong point, crazy.. Available only ...\n",
       "1      0                      Ok lar... Joking wif u oni...\n",
       "2      1  Free entry in 2 a wkly comp to win FA Cup fina...\n",
       "3      0  U dun say so early hor... U c already then say...\n",
       "4      0  Nah I don't think he goes to usf, he lives aro..."
      ]
     },
     "execution_count": 6,
     "metadata": {},
     "output_type": "execute_result"
    }
   ],
   "source": [
    "# Convert label to numbers\n",
    "label_map = {'ham': 0, 'spam': 1}\n",
    "spam['label'] = spam['label'].map(label_map)\n",
    "spam.head()"
   ]
  },
  {
   "cell_type": "markdown",
   "metadata": {},
   "source": [
    "### Feature Extraction\n",
    "Our features are in the form of text. But we cannot work with text directly when using machine learning algorithms. Therefore, we need to convert them into numbers. As we saw in previous classes, our features were a set of vectors made up of numbers, and our algorithms took vectors of numbers as input. So, we need to convert each text message into a fixed-length vector.\n",
    "\n",
    "One popular method of thinking about text document is the *Bag of Words* model. This model ignores the order of words and focuses on *count* or *frequency* of certain sets of words.\n",
    "\n",
    "#### Count Vector\n",
    "Count Vector is a vector representation of text based on count of words in the text. For example, if we want to convert the text `I love to eat. I love to sleep.`, we can count the occurence of each word and make a vector of it as follows.\n",
    "\n",
    "`eat`-----> `1`  \n",
    "`i`--------> `2`  \n",
    "`love`----> `2`  \n",
    "`sleep`---> `1`  \n",
    "`to`-------> `2`  \n",
    "\n",
    "Thus, the count vector representation would be `[1, 2, 2, 1, 2]`. But this vector needs to be of fixed length for every text we choose to vectorize. For this we choose a certain set of words as *vocabulary words* and count the occurence of only those words. Let us see an example using scikit-learn."
   ]
  },
  {
   "cell_type": "code",
   "execution_count": 7,
   "metadata": {},
   "outputs": [
    {
     "data": {
      "text/plain": [
       "['beautiful',\n",
       " 'bright',\n",
       " 'full',\n",
       " 'is',\n",
       " 'moon',\n",
       " 'night',\n",
       " 'of',\n",
       " 'sky',\n",
       " 'stars',\n",
       " 'the']"
      ]
     },
     "execution_count": 7,
     "metadata": {},
     "output_type": "execute_result"
    }
   ],
   "source": [
    "from sklearn.feature_extraction.text import CountVectorizer\n",
    "text = ['The sky is full of stars.', 'The night is beautiful.', 'The moon is bright.']\n",
    "vectorizer = CountVectorizer()\n",
    "# build vocabulary using text\n",
    "vectorizer.fit(text)\n",
    "sorted(list(vectorizer.vocabulary_))"
   ]
  },
  {
   "cell_type": "markdown",
   "metadata": {},
   "source": [
    "We have now built a vocabulary that contains above words. Now, we can use it to transform any text into vector representation."
   ]
  },
  {
   "cell_type": "code",
   "execution_count": 8,
   "metadata": {},
   "outputs": [
    {
     "data": {
      "text/plain": [
       "array([[1, 0, 0, 2, 0, 0, 0, 1, 0, 1]])"
      ]
     },
     "execution_count": 8,
     "metadata": {},
     "output_type": "execute_result"
    }
   ],
   "source": [
    "text1 = ['The sky is blue. It is beautiful.']\n",
    "vectorizer.transform(text1).toarray()"
   ]
  },
  {
   "cell_type": "code",
   "execution_count": 9,
   "metadata": {},
   "outputs": [
    {
     "data": {
      "text/plain": [
       "array([[0, 0, 0, 1, 1, 1, 0, 1, 1, 3]])"
      ]
     },
     "execution_count": 9,
     "metadata": {},
     "output_type": "execute_result"
    }
   ],
   "source": [
    "text2 =['I love night sky. But the moon is gone. The stars are twinkling. Where are the clouds?']\n",
    "vectorizer.transform(text2).toarray()"
   ]
  },
  {
   "cell_type": "markdown",
   "metadata": {},
   "source": [
    "#### TF-IDF\n",
    "Count vectors are a good starting point but they are very simple. One of its drawback is that words like *the* will appear many times in a text and will have a large count that dominates other useful words. An alternative is the TF-IDF. TF-IDF stands for Term Frequency-Inverse Document Frequency. It consists of two terms:\n",
    "\n",
    "**Term Frequency**: Term Frequency (TF) measures how frequently a term occurs in a document. For example, when a 100 word document contains the term *sky* 12 times, the TF for the word *sky* is 12/100 i.e. 0.12.\n",
    "\n",
    "$\\text{TF(t)} = \\large\\frac{\\text{Number of times term t appears in a document}}{\\text{Total number of terms in the document}}$\n",
    "\n",
    "**Inverse Document Frequency**: Inverse Document Frequency (IDF) measures how important a term is. If a term appears frequently across many documents, it might not be that important. While computing TF, all terms are considered equally important. However, certain terms such as *is*, *of*, and *the* may appear a lot of times but have little importance. Thus we need to weigh down the frequent terms and scale up the rare ones.\n",
    "\n",
    "$\\text{IDF(t)} = \\log{\\large \\left(\\frac{\\text{Total number of documents}}{\\text{Number of documents with term t in it}}\\right)}$\n",
    "\n",
    "The TF-IDF of a term is calculated as follows.\n",
    "\n",
    "$\\text{TF-IDF(t) = TF(t)*IDF(t)}$\n",
    "\n",
    "Thus, instead of word counts, a TD-IDF vector would consist TD-IDF values of each word that makes up a vector representation. Let's see an example using scikit-learn."
   ]
  },
  {
   "cell_type": "code",
   "execution_count": 10,
   "metadata": {},
   "outputs": [
    {
     "data": {
      "text/plain": [
       "['beautiful',\n",
       " 'bright',\n",
       " 'full',\n",
       " 'is',\n",
       " 'moon',\n",
       " 'night',\n",
       " 'of',\n",
       " 'sky',\n",
       " 'stars',\n",
       " 'the']"
      ]
     },
     "execution_count": 10,
     "metadata": {},
     "output_type": "execute_result"
    }
   ],
   "source": [
    "from sklearn.feature_extraction.text import TfidfVectorizer\n",
    "text = ['The sky is full of stars.', 'The night is beautiful.', 'The moon is bright.']\n",
    "vectorizer = TfidfVectorizer()\n",
    "# build vocabulary using text\n",
    "vectorizer.fit(text)\n",
    "sorted(list(vectorizer.vocabulary_))"
   ]
  },
  {
   "cell_type": "code",
   "execution_count": 11,
   "metadata": {},
   "outputs": [
    {
     "data": {
      "text/plain": [
       "array([[0.51680194, 0.        , 0.        , 0.61046311, 0.        ,\n",
       "        0.        , 0.        , 0.51680194, 0.        , 0.30523155]])"
      ]
     },
     "execution_count": 11,
     "metadata": {},
     "output_type": "execute_result"
    }
   ],
   "source": [
    "text1 = ['The sky is blue. It is beautiful.']\n",
    "vectorizer.transform(text1).toarray()"
   ]
  },
  {
   "cell_type": "code",
   "execution_count": 12,
   "metadata": {},
   "outputs": [
    {
     "data": {
      "text/plain": [
       "array([[0.        , 0.        , 0.        , 0.2158313 , 0.36543416,\n",
       "        0.36543416, 0.        , 0.36543416, 0.36543416, 0.6474939 ]])"
      ]
     },
     "execution_count": 12,
     "metadata": {},
     "output_type": "execute_result"
    }
   ],
   "source": [
    "text2 =['I love night sky. But the moon is gone. The stars are twinkling. Where are the clouds?']\n",
    "vectorizer.transform(text2).toarray()"
   ]
  },
  {
   "cell_type": "markdown",
   "metadata": {},
   "source": [
    "### Model Creation\n",
    "Now, that we know how to convert text to vector representation, we're ready to proceed with building our model using Naive Bayes Classifier. As we have been saying, we need to convert every text to vector representation before it can be used by our classification model. To make this easy, we'll make use of scikit-learn's *pipeline* that that combines *vectorizer* and *classifier* into one for convenience."
   ]
  },
  {
   "cell_type": "code",
   "execution_count": 13,
   "metadata": {},
   "outputs": [],
   "source": [
    "from sklearn.model_selection import train_test_split\n",
    "from sklearn.pipeline import Pipeline\n",
    "from sklearn.naive_bayes import MultinomialNB\n",
    "from sklearn.metrics import confusion_matrix, classification_report\n",
    "\n",
    "X = spam['text']\n",
    "y = spam['label']\n",
    "\n",
    "Xtrain, Xtest, ytrain, ytest = train_test_split(X, y, stratify=y, test_size=0.2, random_state=0)"
   ]
  },
  {
   "cell_type": "code",
   "execution_count": 14,
   "metadata": {},
   "outputs": [
    {
     "data": {
      "text/plain": [
       "Pipeline(memory=None,\n",
       "     steps=[('tfidf', TfidfVectorizer(analyzer='word', binary=False, decode_error='strict',\n",
       "        dtype=<class 'numpy.float64'>, encoding='utf-8', input='content',\n",
       "        lowercase=True, max_df=1.0, max_features=None, min_df=1,\n",
       "        ngram_range=(1, 1), norm='l2', preprocessor=None, smooth_idf=True,...rue,\n",
       "        vocabulary=None)), ('clf', MultinomialNB(alpha=1.0, class_prior=None, fit_prior=True))])"
      ]
     },
     "execution_count": 14,
     "metadata": {},
     "output_type": "execute_result"
    }
   ],
   "source": [
    "model = Pipeline([('tfidf', TfidfVectorizer()),\n",
    "                ('clf', MultinomialNB())])\n",
    "\n",
    "model.fit(Xtrain, ytrain)"
   ]
  },
  {
   "cell_type": "code",
   "execution_count": 15,
   "metadata": {},
   "outputs": [
    {
     "name": "stdout",
     "output_type": "stream",
     "text": [
      "Train accuracy: 0.9748709894547902\n",
      "Test accuracy: 0.9587443946188341\n"
     ]
    }
   ],
   "source": [
    "print('Train accuracy: {}'.format(model.score(Xtrain, ytrain)))\n",
    "print('Test accuracy: {}'.format(model.score(Xtest, ytest)))"
   ]
  },
  {
   "cell_type": "code",
   "execution_count": 16,
   "metadata": {},
   "outputs": [
    {
     "data": {
      "text/plain": [
       "array([0, 0, 1, 1, 1])"
      ]
     },
     "execution_count": 16,
     "metadata": {},
     "output_type": "execute_result"
    }
   ],
   "source": [
    "model.predict(['meet me at the library', 'call me soon', 'free entry', 'you have won prize', 'claim your flight discount'])"
   ]
  },
  {
   "cell_type": "code",
   "execution_count": 17,
   "metadata": {},
   "outputs": [
    {
     "name": "stdout",
     "output_type": "stream",
     "text": [
      "Train accuracy: 0.9838456360780794\n",
      "Test accuracy: 0.9713004484304932\n"
     ]
    }
   ],
   "source": [
    "model2 = Pipeline([('tfidf', TfidfVectorizer(stop_words='english')),\n",
    "                ('clf', MultinomialNB())])\n",
    "model2.fit(Xtrain, ytrain)\n",
    "print('Train accuracy: {}'.format(model2.score(Xtrain, ytrain)))\n",
    "print('Test accuracy: {}'.format(model2.score(Xtest, ytest)))"
   ]
  },
  {
   "cell_type": "code",
   "execution_count": 18,
   "metadata": {},
   "outputs": [
    {
     "name": "stdout",
     "output_type": "stream",
     "text": [
      "Train accuracy: 0.9896791563832175\n",
      "Test accuracy: 0.967713004484305\n"
     ]
    }
   ],
   "source": [
    "model3 = Pipeline([('tfidf', TfidfVectorizer(stop_words='english', ngram_range=(1, 2))),\n",
    "                ('clf', MultinomialNB(alpha=0.8))])\n",
    "model3.fit(Xtrain, ytrain)\n",
    "print('Train accuracy: {}'.format(model3.score(Xtrain, ytrain)))\n",
    "print('Test accuracy: {}'.format(model3.score(Xtest, ytest)))"
   ]
  },
  {
   "cell_type": "code",
   "execution_count": 19,
   "metadata": {},
   "outputs": [
    {
     "data": {
      "text/plain": [
       "Text(0.5, 33.0, 'Predicted Label')"
      ]
     },
     "execution_count": 19,
     "metadata": {},
     "output_type": "execute_result"
    },
    {
     "data": {
      "image/png": "[encoded data removed]",
      "text/plain": [
       "<Figure size 576x432 with 2 Axes>"
      ]
     },
     "metadata": {
      "image/png": {
       "height": 374,
       "width": 468
      }
     },
     "output_type": "display_data"
    }
   ],
   "source": [
    "ytest_pred = model2.predict(Xtest)\n",
    "sns.heatmap(confusion_matrix(ytest, ytest_pred), annot=True, fmt='d')\n",
    "plt.ylabel('Actual Label')\n",
    "plt.xlabel('Predicted Label')"
   ]
  },
  {
   "cell_type": "code",
   "execution_count": 20,
   "metadata": {},
   "outputs": [
    {
     "name": "stdout",
     "output_type": "stream",
     "text": [
      "              precision    recall  f1-score   support\n",
      "\n",
      "           0       0.97      1.00      0.98       966\n",
      "           1       1.00      0.79      0.88       149\n",
      "\n",
      "   micro avg       0.97      0.97      0.97      1115\n",
      "   macro avg       0.98      0.89      0.93      1115\n",
      "weighted avg       0.97      0.97      0.97      1115\n",
      "\n"
     ]
    }
   ],
   "source": [
    "print(classification_report(ytest, ytest_pred))"
   ]
  },
  {
   "cell_type": "markdown",
   "metadata": {},
   "source": [
    "# Project 3: Sentiment Analysis of IMDB Movie Reviews\n",
    "Train a Naive Bayes Classifier to predict the sentiment of IMDB movie reviews on the movie review dataset. Consider the following while doing so.\n",
    "1. Use `imdb_tr.csv` for training and `imdb_te.csv` for testing.\n",
    "2. Experiment with `CountVectorizer` and `TfidfVectorizer`, and also try using unigram, bigram and trigram to build different models.\n",
    "3. After finding the best model in Q2 based on test accuracy, try playing with `alpha` parameter to find out its best value.\n",
    "4. Choose the best model from Q3 and evaluate the confusion matrix on test data.\n",
    "5. Try to predict the sentiment on your own sample reviews."
   ]
  },
  {
   "cell_type": "code",
   "execution_count": null,
   "metadata": {},
   "outputs": [],
   "source": []
  }
 ],
 "metadata": {
  "kernelspec": {
   "display_name": "Python 3",
   "language": "python",
   "name": "python3"
  },
  "language_info": {
   "codemirror_mode": {
    "name": "ipython",
    "version": 3
   },
   "file_extension": ".py",
   "mimetype": "text/x-python",
   "name": "python",
   "nbconvert_exporter": "python",
   "pygments_lexer": "ipython3",
   "version": "3.6.8"
  }
 },
 "nbformat": 4,
 "nbformat_minor": 2
}
